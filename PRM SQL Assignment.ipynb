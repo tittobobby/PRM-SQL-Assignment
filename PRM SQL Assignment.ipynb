{
 "cells": [
  {
   "cell_type": "code",
   "execution_count": null,
   "id": "b7520084",
   "metadata": {},
   "outputs": [],
   "source": [
    "#1- Write a SQL statement to create a table named countries including columns country_id, country_name and region_id and make sure that no countries except Italy, India and China will be entered in the table.\n",
    "\n",
    "create database assignment;\n",
    "show databases;\n",
    "use  assignment;\n",
    "show tables;\n",
    "\n",
    "#creating Table\n",
    "\n",
    "CREATE TABLE if not exists COUNTRIES (\n",
    "country_id int NOT NULL PRIMARY KEY,\n",
    "country_name varchar(60)\n",
    "check (country_name in ('Italy', 'India','China')), \n",
    "region_id varchar(5)\n",
    ");\n",
    "\n",
    "#inserting the value into the Table\n",
    "insert into countries values(1,\"Italy\",\"ITA\");\n",
    "insert into countries values(2,\"India\",\"IND\");\n",
    "insert into countries values(3,\"China\",\"CHN\");\n",
    "\n",
    "#to view the table\n",
    "select * from COUNTRIES;\n"
   ]
  },
  {
   "cell_type": "code",
   "execution_count": null,
   "id": "6be5385c",
   "metadata": {},
   "outputs": [],
   "source": [
    "# 2 - Write a SQL statement to create the duplicate of the countries table named country_new with all structure and data.\n",
    "\n",
    "#creating Table\n",
    "\n",
    "create table COUNTRIES(\n",
    "COUNTRY_ID varchar(2),\n",
    "COUNTRY_NAME varchar(40),\n",
    "REGION_ID decimal(10,0)\n",
    ");\n",
    "\n",
    "#creating duplicate of the countries table named country_new\n",
    "\n",
    "create table country_new\n",
    "as select * from COUNTRIES;\n",
    "\n",
    "#columns of table named country_new\n",
    "show columns from country_new;"
   ]
  }
 ],
 "metadata": {
  "kernelspec": {
   "display_name": "Python 3 (ipykernel)",
   "language": "python",
   "name": "python3"
  },
  "language_info": {
   "codemirror_mode": {
    "name": "ipython",
    "version": 3
   },
   "file_extension": ".py",
   "mimetype": "text/x-python",
   "name": "python",
   "nbconvert_exporter": "python",
   "pygments_lexer": "ipython3",
   "version": "3.9.12"
  }
 },
 "nbformat": 4,
 "nbformat_minor": 5
}
